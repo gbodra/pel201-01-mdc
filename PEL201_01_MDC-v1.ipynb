{
 "cells": [
  {
   "cell_type": "markdown",
   "metadata": {
    "id": "wDKRRCv3Dc82"
   },
   "source": [
    "# Exercício 01 - PEL201\n",
    "\n",
    "## Exercício\n",
    "Implemente o algoritmo de Máximo Divisor Comum (MDC) de dois números (a e b) de dois modos: usando a solução iterativa (que percorre as possibilidades) e a solução recursiva.\n",
    "\n",
    "### Pequeno texto sobre o que é e como encontrar, computacionalmente, o MDC\n",
    "O Máximo Divisor Comum é o maior número que divide dois inteiros em questão. Para encontrá-lo computacionalmente existem duas possbilidades:\n",
    "\n",
    "1. Utilizando um algoritmo iterativo que irá percorrer todas as opções até encontrar a melhor.\n",
    "\n",
    "    * Neste cenário é importante compreender que a maioria dos testes resultarão em falha, principalmente se estivermos avaliando números primos. Ou seja, este algoritmo passa a ser pouco eficiente quanto maior forem os números sendo avaliados;\n",
    "\n",
    "\n",
    "2. A segunda opção é se utilizar de um algoritmo criado por Euclides, aproximadamente em 300 a.C..\n",
    "\n",
    "    * Este algoritmo consiste em subtrair o menor número do maior sucessivamente até chegar em zero. Quando esta convergência ocorrer o MDC será o outro número inteiro. Desta forma podemos calcular o MDC recursivamente utilizando o resto da divisão como entrada para a função até que o resto seja igual a 0."
   ]
  },
  {
   "cell_type": "code",
   "execution_count": 1,
   "metadata": {
    "id": "qxB6xRTZDW7H"
   },
   "outputs": [],
   "source": [
    "import time\n",
    "from tqdm import tqdm\n",
    "import matplotlib.pyplot as plt\n",
    "import numpy as np"
   ]
  },
  {
   "cell_type": "code",
   "execution_count": 2,
   "metadata": {
    "id": "BV5Aho-kDiXL"
   },
   "outputs": [],
   "source": [
    "def read_random_primes():\n",
    "    f = open(\"./top_primes.txt\", \"r\")\n",
    "    first_half = []\n",
    "    second_half = []\n",
    "    i = 0\n",
    "    for prime in f:\n",
    "        if i < 50000:\n",
    "            first_half.append(int(prime.replace(\"\\n\", \"\")))\n",
    "        else:\n",
    "            second_half.append(int(prime.replace(\"\\n\", \"\")))\n",
    "\n",
    "        i = i + 1\n",
    "\n",
    "    pairs = zip(first_half, second_half)\n",
    "\n",
    "    return pairs"
   ]
  },
  {
   "cell_type": "markdown",
   "metadata": {},
   "source": [
    "### Explique, em palavras, como é a solução iterativa (e depois apresente o código, identificando qual linguagem usou)\n",
    "Linguagem: `Python`\n",
    "\n",
    "O algoritmo iterativo inicia definindo o menor número dentre as duas entradas como primeiro candidato. Após isso, iremos iterar entre todos os números até que o resto da divisão seja zero. Neste caso iremos repetir esta avaliação, no melhor caso `1` vez (isso se o `min(m, n)` for exatamente o MDC) e no pior caso `min(m, n)`.\n",
    "Desta forma o número de iterações irá crescer proporcionalmente ao tamanho das entradas."
   ]
  },
  {
   "cell_type": "code",
   "execution_count": 3,
   "metadata": {
    "id": "BAM7WZbqDlQY"
   },
   "outputs": [],
   "source": [
    "def mdc_iterativo(m=15485863, n=15485857):\n",
    "    candidato = min(m, n)\n",
    "\n",
    "    while m % candidato != 0 or n % candidato != 0:\n",
    "        candidato = candidato - 1\n",
    "\n",
    "    return candidato"
   ]
  },
  {
   "cell_type": "markdown",
   "metadata": {},
   "source": [
    "### Explique, em palavras, como é a solução recursiva (e depois apresente o código, identificando qual linguagem usou)\n",
    "Linguagem: `Python`\n",
    "\n",
    "Este é o algoritmo de Euclides para encontrar o MDC de dois números inteiros. Como este algoritmo é recursivo, a primeira avaliação é feita para garantir o critério de parada. Isto feito realizamos uma nova chamada à função porém utilizando o resto da divisão como entrada para o segundo parâmetro. Isso será realizado até que a função atinja o critério de parada que é quando o resto da divisão for igual a 0.\n",
    "\n",
    "Utilizando-se deste algoritmo, a quantidade de execuções nunca será maior do que 5 vezes o tamanho de dígitos do menor número."
   ]
  },
  {
   "cell_type": "code",
   "execution_count": 4,
   "metadata": {
    "id": "73K_Hob1DuSj"
   },
   "outputs": [],
   "source": [
    "def mdc_recursivo(m=15485863, n=15485857):\n",
    "    if n == 0:\n",
    "        return m\n",
    "\n",
    "    return mdc_recursivo(n, m % n)"
   ]
  },
  {
   "cell_type": "code",
   "execution_count": 5,
   "metadata": {
    "id": "piwyateMIYk9"
   },
   "outputs": [],
   "source": [
    "items = read_random_primes()\n",
    "items = list(items)"
   ]
  },
  {
   "cell_type": "code",
   "execution_count": 6,
   "metadata": {
    "colab": {
     "base_uri": "https://localhost:8080/"
    },
    "id": "k4tIvvBwDv9P",
    "outputId": "3c77aea6-8551-44a7-93a1-bbe57aec9317"
   },
   "outputs": [
    {
     "name": "stderr",
     "output_type": "stream",
     "text": [
      "100%|██████████| 50000/50000 [1:09:27<00:00, 12.00it/s]\n"
     ]
    }
   ],
   "source": [
    "iter_runtime_result = []\n",
    "for item in tqdm(items):\n",
    "    mdc_iter_start = time.time()\n",
    "    mdc_iter_result = mdc_iterativo(item[0], item[1])\n",
    "    mdc_iter_end = time.time()\n",
    "    iter_runtime_result.append(mdc_iter_end - mdc_iter_start)"
   ]
  },
  {
   "cell_type": "code",
   "execution_count": 7,
   "metadata": {
    "colab": {
     "base_uri": "https://localhost:8080/"
    },
    "id": "RnzPvPiBIV7T",
    "outputId": "5c80bf6a-ba87-406d-b5b0-40e4aeec6e78"
   },
   "outputs": [
    {
     "name": "stderr",
     "output_type": "stream",
     "text": [
      "100%|██████████| 50000/50000 [00:00<00:00, 85873.26it/s]\n"
     ]
    }
   ],
   "source": [
    "recur_runtime_result = []\n",
    "for item in tqdm(items):\n",
    "    mdc_recur_start = time.time()\n",
    "    mdc_recur_result = mdc_recursivo(item[0], item[1])\n",
    "    mdc_recur_end = time.time()\n",
    "    recur_runtime_result.append(mdc_recur_end - mdc_recur_start)"
   ]
  },
  {
   "cell_type": "markdown",
   "metadata": {},
   "source": [
    "### Faça uma comparação em gráfico e tabela dos desempenhos de tempo (em segundos) entre elas para várias entradas iguais (faça entradas com números grandes e/ou rode o mesmo algoritmo várias vezes para capturar o tempo)\n",
    "\n",
    "Utilizei um dataset com os primeiros 100 mil de números primos. Com esta lista montei 50.000 pares e utilizei como dados de teste.\n",
    "\n",
    "Cada um dos 50.000 pares foram testados com o método iterativo e com o método recursivo.\n",
    "\n",
    "#### Resultados\n",
    "\n",
    "Antes de apresentar os resultados dos testes é importante fazer a avaliação conceitual de ambos os algoritmos para compreender a diferença na eficiência.\n",
    "\n",
    "Vamos comparar os algoritmos utilizando como entrada os seguintes números primos: `m=15485863` e `n=15485857`\n",
    "\n",
    "* Utilizando o algoritmo iterativo teremos, no pior caso, `15.485.857` iterações;\n",
    "\n",
    "* Utilizando o algoritmo recursivo teremos, no pior caso, `5 * 8 = 40`. Ou seja, 5 vezes os 8 digitos do menor número, resultando em 40 passos.\n",
    "\n",
    "Algoritmo Iterativo: `100%|██████████| 50000/50000 [1:09:27<00:00, 12.00it/s]`\n",
    "\n",
    "Algoritmo Recursivo: `100%|██████████| 50000/50000 [00:00<00:00, 85873.26it/s]`\n",
    "\n",
    "Ao realizar o teste foi possível perceber que o método iterativo é 99,98% mais lento que o método recursivo. Podemos perceber esta diferença através do gráfico abaixo, onde a curva de tempo de execução do método iterativo se aproxima de uma função linear enquanto a curva de tempo de execução do método recursivo se aproxima de uma curva constante, sendo assim muito mais eficiente do que o anterior."
   ]
  },
  {
   "cell_type": "code",
   "execution_count": 32,
   "metadata": {},
   "outputs": [
    {
     "name": "stdout",
     "output_type": "stream",
     "text": [
      "Média - Tempo Algoritmo Iterativo (s): 0.08187464720726013\n",
      "Média - Tempo Algoritmo Recursivo (s): 8.782563209533691e-06\n"
     ]
    }
   ],
   "source": [
    "print(\"Média - Tempo Algoritmo Iterativo (s): \" + str(np.average(iter_runtime_result)))\n",
    "print(\"Média - Tempo Algoritmo Recursivo (s): \" + str(np.average(recur_runtime_result)))"
   ]
  },
  {
   "cell_type": "code",
   "execution_count": 31,
   "metadata": {},
   "outputs": [
    {
     "data": {
      "text/plain": [
       "99.98927315901918"
      ]
     },
     "execution_count": 31,
     "metadata": {},
     "output_type": "execute_result"
    }
   ],
   "source": [
    "((np.average(iter_runtime_result) - np.average(recur_runtime_result)) / np.average(iter_runtime_result)) * 100"
   ]
  },
  {
   "cell_type": "code",
   "execution_count": 8,
   "metadata": {
    "colab": {
     "base_uri": "https://localhost:8080/",
     "height": 268
    },
    "id": "ttuUgLc0Dze8",
    "outputId": "13cd415c-4e91-4ce4-b3b4-d0158523ec2a"
   },
   "outputs": [
    {
     "data": {
      "image/png": "[encoded data removed]",
      "text/plain": [
       "<Figure size 432x288 with 1 Axes>"
      ]
     },
     "metadata": {
      "needs_background": "light"
     },
     "output_type": "display_data"
    }
   ],
   "source": [
    "fig, ax = plt.subplots()\n",
    "\n",
    "line1, = ax.plot(iter_runtime_result, label='Iterativo')\n",
    "\n",
    "line2, = ax.plot(recur_runtime_result, label='Recursivo')\n",
    "\n",
    "ax.legend()\n",
    "plt.show()"
   ]
  },
  {
   "cell_type": "markdown",
   "metadata": {},
   "source": [
    "### Apresente e EXPLIQUE a recorrência T(n) de cada um dos algoritmos implementados\n",
    "\n",
    "#### Algoritmo Iterativo\n",
    "\n",
    "```python\n",
    "def mdc_iterativo(m=15485863, n=15485857):\n",
    "    candidato = min(m, n)\n",
    "\n",
    "    while m / candidato != 0 or n / candidato != 0:\n",
    "        candidato = candidato - 1\n",
    "\n",
    "    return candidato\n",
    "```\n",
    "\n",
    "Linha 1: `candidado = min(m, n)` => C * 1\n",
    "\n",
    "Linha 2: `while m % candidato != 0 or n % candidato != 0:` => C * n + 1\n",
    "\n",
    "Linha 3: `candidado = candidado - 1` => C * n\n",
    "\n",
    "Linha 4: `return candidato` => C * 1\n",
    "\n",
    "Resultado: $$T(n) = 4c + 2n + 1$$\n",
    "\n",
    "Assumindo `c = 1`, temos: $$T(n) = 2n + 5$$\n",
    "\n",
    "\n",
    "#### Algoritmo Recursivo\n",
    "\n",
    "```python\n",
    "def mdc_recursivo(m=15485863, n=15485857):\n",
    "    if n == 0:\n",
    "        return m\n",
    "\n",
    "    return mdc_recursivo(n, m % n)\n",
    "```\n",
    "\n",
    "Linha 1: `if n == 0` => C * 1\n",
    "\n",
    "Linha 2: `return m` => C * 1\n",
    "\n",
    "Linha 3: `return mdc_recursivo(n, m % n)` => $$T(m / n) + \\theta$$\n",
    "\n",
    "Logo a recorrência deste algoritmo é:\n",
    "\n",
    "$$ \\theta(1) $$\n",
    "\n",
    "$$ T(m / n) + \\theta(1)$$"
   ]
  }
 ],
 "metadata": {
  "colab": {
   "collapsed_sections": [],
   "name": "PEL201_01_MDC.ipynb",
   "provenance": [],
   "toc_visible": true
  },
  "kernelspec": {
   "display_name": "Python 3",
   "language": "python",
   "name": "python3"
  },
  "language_info": {
   "codemirror_mode": {
    "name": "ipython",
    "version": 3
   },
   "file_extension": ".py",
   "mimetype": "text/x-python",
   "name": "python",
   "nbconvert_exporter": "python",
   "pygments_lexer": "ipython3",
   "version": "3.6.9"
  }
 },
 "nbformat": 4,
 "nbformat_minor": 4
}
